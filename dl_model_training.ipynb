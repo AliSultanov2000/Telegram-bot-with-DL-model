{
 "cells": [
  {
   "cell_type": "code",
   "execution_count": null,
   "metadata": {
    "id": "oMIL3RRALASF"
   },
   "outputs": [],
   "source": [
    "import pickle\n",
    "from sklearn.model_selection import train_test_split\n",
    "import keras\n",
    "import numpy as np\n",
    "from keras import Sequential\n",
    "from keras import callbacks\n",
    "from keras.utils import to_categorical\n",
    "from keras.layers import Dropout, BatchNormalization, Flatten, Dense\n",
    "from google.colab import drive"
   ]
  },
  {
   "cell_type": "code",
   "execution_count": null,
   "metadata": {
    "id": "vW0YJDR_hTUO"
   },
   "outputs": [],
   "source": [
    "np.random.seed(42)"
   ]
  },
  {
   "cell_type": "code",
   "execution_count": null,
   "metadata": {
    "colab": {
     "base_uri": "https://localhost:8080/"
    },
    "id": "0qH72Mjns_MA",
    "outputId": "7ec8c403-6924-459b-8bc1-cca072d1c073"
   },
   "outputs": [
    {
     "name": "stdout",
     "output_type": "stream",
     "text": [
      "/usr/local/lib/python3.7/dist-packages/gdown/cli.py:131: FutureWarning: Option `--id` was deprecated in version 4.3.1 and will be removed in 5.0. You don't need to pass it anymore to use a file ID.\n",
      "  category=FutureWarning,\n",
      "Downloading...\n",
      "From: https://drive.google.com/uc?id=1lvFeDE7qdwYTR9NVqBnoYGpXcPPaZUf9\n",
      "To: /content/img_embeddings.pkl\n",
      "100% 3.54M/3.54M [00:00<00:00, 136MB/s]\n"
     ]
    }
   ],
   "source": [
    "! gdown --id 1lvFeDE7qdwYTR9NVqBnoYGpXcPPaZUf9    # upload data (embeddings) from Google Drive "
   ]
  },
  {
   "cell_type": "code",
   "execution_count": null,
   "metadata": {
    "colab": {
     "base_uri": "https://localhost:8080/"
    },
    "id": "olhFWAmmuIj3",
    "outputId": "f6d2db90-68b3-4dec-ee47-15c1e5fed1fa"
   },
   "outputs": [
    {
     "name": "stdout",
     "output_type": "stream",
     "text": [
      "/usr/local/lib/python3.7/dist-packages/gdown/cli.py:131: FutureWarning: Option `--id` was deprecated in version 4.3.1 and will be removed in 5.0. You don't need to pass it anymore to use a file ID.\n",
      "  category=FutureWarning,\n",
      "Downloading...\n",
      "From: https://drive.google.com/uc?id=1DJ6tWI6jJxFwNaQv_6NUGfSkGR_BALc8\n",
      "To: /content/img_labels.pkl\n",
      "100% 27.8k/27.8k [00:00<00:00, 22.9MB/s]\n"
     ]
    }
   ],
   "source": [
    "! gdown --id 1DJ6tWI6jJxFwNaQv_6NUGfSkGR_BALc8     # upload data (labels) from Google Drive"
   ]
  },
  {
   "cell_type": "code",
   "execution_count": null,
   "metadata": {
    "colab": {
     "base_uri": "https://localhost:8080/"
    },
    "id": "Ur6swSImy0zv",
    "outputId": "a3560ed0-799a-4969-fee5-464aed3fdb0c"
   },
   "outputs": [
    {
     "name": "stdout",
     "output_type": "stream",
     "text": [
      "Drive already mounted at /content/drive/; to attempt to forcibly remount, call drive.mount(\"/content/drive/\", force_remount=True).\n"
     ]
    }
   ],
   "source": [
    "drive.mount(\"/content/drive/\")"
   ]
  },
  {
   "cell_type": "code",
   "execution_count": null,
   "metadata": {
    "id": "od7i831-n677"
   },
   "outputs": [],
   "source": [
    "def get_data(file_path: str) -> np.ndarray:\n",
    "    with open(file_path, 'rb') as file:\n",
    "        return pickle.load(file)"
   ]
  },
  {
   "cell_type": "code",
   "execution_count": null,
   "metadata": {
    "id": "_0acbFjfn85N"
   },
   "outputs": [],
   "source": [
    "embeddings = get_data('/content/img_embeddings.pkl')\n",
    "labels = get_data('/content/img_labels.pkl')"
   ]
  },
  {
   "cell_type": "code",
   "execution_count": null,
   "metadata": {
    "id": "HWqbAGF6hfCB"
   },
   "outputs": [],
   "source": [
    "X_train, X_test, y_train, y_test = train_test_split(embeddings, labels, test_size=0.2, shuffle=True, random_state=42)"
   ]
  },
  {
   "cell_type": "code",
   "execution_count": null,
   "metadata": {
    "colab": {
     "base_uri": "https://localhost:8080/"
    },
    "id": "Mrv264UYWpYb",
    "outputId": "9d5ae292-b630-4de7-8e82-78040d4e3d50"
   },
   "outputs": [
    {
     "name": "stdout",
     "output_type": "stream",
     "text": [
      "Training sample size: 2768\n",
      "Test sample size: 692\n"
     ]
    }
   ],
   "source": [
    "print(f'Training sample size: {len(X_train)}')\n",
    "print(f'Test sample size: {len(X_test)}')"
   ]
  },
  {
   "cell_type": "code",
   "execution_count": null,
   "metadata": {
    "id": "ph_H375P-mIE"
   },
   "outputs": [],
   "source": [
    "y_train = to_categorical(y_train, 233)\n",
    "y_test = to_categorical(y_test, 233)"
   ]
  },
  {
   "cell_type": "code",
   "execution_count": null,
   "metadata": {
    "id": "n4GX1dcO-oeC"
   },
   "outputs": [],
   "source": [
    "model = Sequential([])\n",
    "model.add(Dense(128, input_shape=(128, ), name='input_layer'))\n",
    "model.add(Dense(150, activation='elu', name='hidden_layer_1'))\n",
    "model.add(Dropout(0.4, name='dropout_1'))\n",
    "model.add(Dense(150, activation='elu', name='hidden_layer_2'))\n",
    "model.add(Dense(150, activation='elu', name='hidden_layer_3'))\n",
    "model.add(BatchNormalization(name='batch_normalization'))\n",
    "model.add(Dense(150, activation='elu', name='hidden_layer_4'))\n",
    "model.add(Dropout(0.4, name='dropout_2'))\n",
    "model.add(Dense(233, activation='softmax', name='output_layer'))"
   ]
  },
  {
   "cell_type": "code",
   "execution_count": null,
   "metadata": {
    "id": "iCrOkRGYJ7hi"
   },
   "outputs": [],
   "source": [
    "callbacks = [\n",
    "    callbacks.EarlyStopping(monitor='loss', min_delta=0.01, patience=13, verbose=1),  \n",
    "    callbacks.ReduceLROnPlateau(monitor='loss', factor=0.1, min_delta=0.01, min_lr=1e-10, patience=5, verbose=1, mode='auto')\n",
    "]"
   ]
  },
  {
   "cell_type": "code",
   "execution_count": null,
   "metadata": {
    "id": "cXgp83Wt-jdK"
   },
   "outputs": [],
   "source": [
    "model.compile(metrics=['accuracy'], loss='categorical_crossentropy', optimizer='adam')"
   ]
  },
  {
   "cell_type": "code",
   "execution_count": null,
   "metadata": {
    "colab": {
     "base_uri": "https://localhost:8080/"
    },
    "id": "aeSB2B4wRgFg",
    "outputId": "031b9a85-a15e-4830-c4de-3d0e5a832fcf"
   },
   "outputs": [
    {
     "name": "stdout",
     "output_type": "stream",
     "text": [
      "Epoch 1/70\n",
      "31/31 [==============================] - 2s 19ms/step - loss: 5.5440 - accuracy: 0.0108 - val_loss: 5.3534 - val_accuracy: 0.0325 - lr: 0.0010\n",
      "Epoch 2/70\n",
      "31/31 [==============================] - 0s 12ms/step - loss: 4.5603 - accuracy: 0.0926 - val_loss: 5.1822 - val_accuracy: 0.1661 - lr: 0.0010\n",
      "Epoch 3/70\n",
      "31/31 [==============================] - 0s 10ms/step - loss: 3.7314 - accuracy: 0.2344 - val_loss: 4.9254 - val_accuracy: 0.3321 - lr: 0.0010\n",
      "Epoch 4/70\n",
      "31/31 [==============================] - 0s 11ms/step - loss: 3.0269 - accuracy: 0.3546 - val_loss: 4.5595 - val_accuracy: 0.4747 - lr: 0.0010\n",
      "Epoch 5/70\n",
      "31/31 [==============================] - 0s 10ms/step - loss: 2.4808 - accuracy: 0.4444 - val_loss: 4.1212 - val_accuracy: 0.5830 - lr: 0.0010\n",
      "Epoch 6/70\n",
      "31/31 [==============================] - 0s 10ms/step - loss: 2.0441 - accuracy: 0.5375 - val_loss: 3.6319 - val_accuracy: 0.6426 - lr: 0.0010\n",
      "Epoch 7/70\n",
      "31/31 [==============================] - 0s 10ms/step - loss: 1.7408 - accuracy: 0.5935 - val_loss: 3.0964 - val_accuracy: 0.6968 - lr: 0.0010\n",
      "Epoch 8/70\n",
      "31/31 [==============================] - 1s 16ms/step - loss: 1.4447 - accuracy: 0.6612 - val_loss: 2.6271 - val_accuracy: 0.6931 - lr: 0.0010\n",
      "Epoch 9/70\n",
      "31/31 [==============================] - 1s 19ms/step - loss: 1.2868 - accuracy: 0.6920 - val_loss: 2.1499 - val_accuracy: 0.7076 - lr: 0.0010\n",
      "Epoch 10/70\n",
      "31/31 [==============================] - 1s 18ms/step - loss: 1.1239 - accuracy: 0.7145 - val_loss: 1.6942 - val_accuracy: 0.7509 - lr: 0.0010\n",
      "Epoch 11/70\n",
      "31/31 [==============================] - 1s 18ms/step - loss: 1.0159 - accuracy: 0.7448 - val_loss: 1.4008 - val_accuracy: 0.7690 - lr: 0.0010\n",
      "Epoch 12/70\n",
      "31/31 [==============================] - 1s 17ms/step - loss: 0.9080 - accuracy: 0.7696 - val_loss: 1.1520 - val_accuracy: 0.7852 - lr: 0.0010\n",
      "Epoch 13/70\n",
      "31/31 [==============================] - 1s 19ms/step - loss: 0.8342 - accuracy: 0.7855 - val_loss: 1.0419 - val_accuracy: 0.7942 - lr: 0.0010\n",
      "Epoch 14/70\n",
      "31/31 [==============================] - 1s 17ms/step - loss: 0.7031 - accuracy: 0.8225 - val_loss: 0.9020 - val_accuracy: 0.7996 - lr: 0.0010\n",
      "Epoch 15/70\n",
      "31/31 [==============================] - 1s 19ms/step - loss: 0.6773 - accuracy: 0.8234 - val_loss: 0.8361 - val_accuracy: 0.8159 - lr: 0.0010\n",
      "Epoch 16/70\n",
      "31/31 [==============================] - 0s 15ms/step - loss: 0.6316 - accuracy: 0.8338 - val_loss: 0.8295 - val_accuracy: 0.8177 - lr: 0.0010\n",
      "Epoch 17/70\n",
      "31/31 [==============================] - 0s 12ms/step - loss: 0.6364 - accuracy: 0.8333 - val_loss: 0.7734 - val_accuracy: 0.8087 - lr: 0.0010\n",
      "Epoch 18/70\n",
      "31/31 [==============================] - 0s 10ms/step - loss: 0.5371 - accuracy: 0.8568 - val_loss: 0.7239 - val_accuracy: 0.8303 - lr: 0.0010\n",
      "Epoch 19/70\n",
      "31/31 [==============================] - 0s 11ms/step - loss: 0.5290 - accuracy: 0.8627 - val_loss: 0.7169 - val_accuracy: 0.8267 - lr: 0.0010\n",
      "Epoch 20/70\n",
      "31/31 [==============================] - 0s 12ms/step - loss: 0.5215 - accuracy: 0.8532 - val_loss: 0.7102 - val_accuracy: 0.8249 - lr: 0.0010\n",
      "Epoch 21/70\n",
      "31/31 [==============================] - 0s 11ms/step - loss: 0.4679 - accuracy: 0.8753 - val_loss: 0.7284 - val_accuracy: 0.8141 - lr: 0.0010\n",
      "Epoch 22/70\n",
      "31/31 [==============================] - 0s 10ms/step - loss: 0.4724 - accuracy: 0.8708 - val_loss: 0.6921 - val_accuracy: 0.8159 - lr: 0.0010\n",
      "Epoch 23/70\n",
      "31/31 [==============================] - 0s 12ms/step - loss: 0.4258 - accuracy: 0.8790 - val_loss: 0.6951 - val_accuracy: 0.8087 - lr: 0.0010\n",
      "Epoch 24/70\n",
      "31/31 [==============================] - 0s 10ms/step - loss: 0.4065 - accuracy: 0.8893 - val_loss: 0.6825 - val_accuracy: 0.8285 - lr: 0.0010\n",
      "Epoch 25/70\n",
      "31/31 [==============================] - 0s 10ms/step - loss: 0.3908 - accuracy: 0.8893 - val_loss: 0.6548 - val_accuracy: 0.8357 - lr: 0.0010\n",
      "Epoch 26/70\n",
      "31/31 [==============================] - 0s 10ms/step - loss: 0.3668 - accuracy: 0.8957 - val_loss: 0.6960 - val_accuracy: 0.8357 - lr: 0.0010\n",
      "Epoch 27/70\n",
      "31/31 [==============================] - 0s 10ms/step - loss: 0.3677 - accuracy: 0.9015 - val_loss: 0.6347 - val_accuracy: 0.8394 - lr: 0.0010\n",
      "Epoch 28/70\n",
      "31/31 [==============================] - 0s 10ms/step - loss: 0.3539 - accuracy: 0.9047 - val_loss: 0.6508 - val_accuracy: 0.8285 - lr: 0.0010\n",
      "Epoch 29/70\n",
      "31/31 [==============================] - 0s 11ms/step - loss: 0.3398 - accuracy: 0.9065 - val_loss: 0.7111 - val_accuracy: 0.8303 - lr: 0.0010\n",
      "Epoch 30/70\n",
      "31/31 [==============================] - 0s 10ms/step - loss: 0.3465 - accuracy: 0.8988 - val_loss: 0.7575 - val_accuracy: 0.8213 - lr: 0.0010\n",
      "Epoch 31/70\n",
      "31/31 [==============================] - 0s 9ms/step - loss: 0.3227 - accuracy: 0.9042 - val_loss: 0.6875 - val_accuracy: 0.8394 - lr: 0.0010\n",
      "Epoch 32/70\n",
      "31/31 [==============================] - 0s 12ms/step - loss: 0.2885 - accuracy: 0.9192 - val_loss: 0.6702 - val_accuracy: 0.8303 - lr: 0.0010\n",
      "Epoch 33/70\n",
      "31/31 [==============================] - 0s 9ms/step - loss: 0.2755 - accuracy: 0.9214 - val_loss: 0.6346 - val_accuracy: 0.8448 - lr: 0.0010\n",
      "Epoch 34/70\n",
      "31/31 [==============================] - 0s 10ms/step - loss: 0.3101 - accuracy: 0.9083 - val_loss: 0.6972 - val_accuracy: 0.8339 - lr: 0.0010\n",
      "Epoch 35/70\n",
      "31/31 [==============================] - 0s 10ms/step - loss: 0.2719 - accuracy: 0.9304 - val_loss: 0.7311 - val_accuracy: 0.8303 - lr: 0.0010\n",
      "Epoch 36/70\n",
      "31/31 [==============================] - 0s 12ms/step - loss: 0.2708 - accuracy: 0.9196 - val_loss: 0.6689 - val_accuracy: 0.8375 - lr: 0.0010\n",
      "Epoch 37/70\n",
      "31/31 [==============================] - 0s 10ms/step - loss: 0.2480 - accuracy: 0.9300 - val_loss: 0.6503 - val_accuracy: 0.8357 - lr: 0.0010\n",
      "Epoch 38/70\n",
      "31/31 [==============================] - 0s 12ms/step - loss: 0.2678 - accuracy: 0.9201 - val_loss: 0.6849 - val_accuracy: 0.8430 - lr: 0.0010\n",
      "Epoch 39/70\n",
      "31/31 [==============================] - 0s 10ms/step - loss: 0.2539 - accuracy: 0.9259 - val_loss: 0.6619 - val_accuracy: 0.8357 - lr: 0.0010\n",
      "Epoch 40/70\n",
      "31/31 [==============================] - 0s 10ms/step - loss: 0.2426 - accuracy: 0.9295 - val_loss: 0.6420 - val_accuracy: 0.8520 - lr: 0.0010\n",
      "Epoch 41/70\n",
      "31/31 [==============================] - 0s 11ms/step - loss: 0.2100 - accuracy: 0.9377 - val_loss: 0.6501 - val_accuracy: 0.8430 - lr: 0.0010\n",
      "Epoch 42/70\n",
      "31/31 [==============================] - 0s 10ms/step - loss: 0.2239 - accuracy: 0.9368 - val_loss: 0.6887 - val_accuracy: 0.8502 - lr: 0.0010\n",
      "Epoch 43/70\n",
      "31/31 [==============================] - 0s 11ms/step - loss: 0.2216 - accuracy: 0.9395 - val_loss: 0.6593 - val_accuracy: 0.8285 - lr: 0.0010\n",
      "Epoch 44/70\n",
      "31/31 [==============================] - 0s 11ms/step - loss: 0.2326 - accuracy: 0.9322 - val_loss: 0.7130 - val_accuracy: 0.8303 - lr: 0.0010\n",
      "Epoch 45/70\n",
      "31/31 [==============================] - 0s 11ms/step - loss: 0.2134 - accuracy: 0.9386 - val_loss: 0.7085 - val_accuracy: 0.8303 - lr: 0.0010\n",
      "Epoch 46/70\n",
      "25/31 [=======================>......] - ETA: 0s - loss: 0.1980 - accuracy: 0.9422\n",
      "Epoch 46: ReduceLROnPlateau reducing learning rate to 0.00010000000474974513.\n",
      "31/31 [==============================] - 0s 10ms/step - loss: 0.2112 - accuracy: 0.9390 - val_loss: 0.6502 - val_accuracy: 0.8448 - lr: 0.0010\n",
      "Epoch 47/70\n",
      "31/31 [==============================] - 0s 11ms/step - loss: 0.1963 - accuracy: 0.9408 - val_loss: 0.5908 - val_accuracy: 0.8574 - lr: 1.0000e-04\n",
      "Epoch 48/70\n",
      "31/31 [==============================] - 0s 11ms/step - loss: 0.1861 - accuracy: 0.9435 - val_loss: 0.5687 - val_accuracy: 0.8646 - lr: 1.0000e-04\n",
      "Epoch 49/70\n",
      "31/31 [==============================] - 0s 11ms/step - loss: 0.1502 - accuracy: 0.9539 - val_loss: 0.5661 - val_accuracy: 0.8646 - lr: 1.0000e-04\n",
      "Epoch 50/70\n",
      "31/31 [==============================] - 0s 10ms/step - loss: 0.1447 - accuracy: 0.9571 - val_loss: 0.5549 - val_accuracy: 0.8646 - lr: 1.0000e-04\n",
      "Epoch 51/70\n",
      "31/31 [==============================] - 0s 12ms/step - loss: 0.1550 - accuracy: 0.9566 - val_loss: 0.5456 - val_accuracy: 0.8646 - lr: 1.0000e-04\n",
      "Epoch 52/70\n",
      "31/31 [==============================] - 0s 11ms/step - loss: 0.1367 - accuracy: 0.9657 - val_loss: 0.5556 - val_accuracy: 0.8682 - lr: 1.0000e-04\n",
      "Epoch 53/70\n",
      "31/31 [==============================] - 0s 10ms/step - loss: 0.1396 - accuracy: 0.9607 - val_loss: 0.5639 - val_accuracy: 0.8700 - lr: 1.0000e-04\n",
      "Epoch 54/70\n",
      "31/31 [==============================] - 0s 12ms/step - loss: 0.1288 - accuracy: 0.9648 - val_loss: 0.5595 - val_accuracy: 0.8700 - lr: 1.0000e-04\n",
      "Epoch 55/70\n",
      "31/31 [==============================] - 0s 10ms/step - loss: 0.1550 - accuracy: 0.9580 - val_loss: 0.5556 - val_accuracy: 0.8700 - lr: 1.0000e-04\n",
      "Epoch 56/70\n",
      "31/31 [==============================] - 0s 11ms/step - loss: 0.1454 - accuracy: 0.9535 - val_loss: 0.5537 - val_accuracy: 0.8628 - lr: 1.0000e-04\n",
      "Epoch 57/70\n",
      "31/31 [==============================] - ETA: 0s - loss: 0.1391 - accuracy: 0.9612\n",
      "Epoch 57: ReduceLROnPlateau reducing learning rate to 1.0000000474974514e-05.\n",
      "31/31 [==============================] - 0s 11ms/step - loss: 0.1391 - accuracy: 0.9612 - val_loss: 0.5455 - val_accuracy: 0.8610 - lr: 1.0000e-04\n",
      "Epoch 58/70\n",
      "31/31 [==============================] - 0s 11ms/step - loss: 0.1387 - accuracy: 0.9589 - val_loss: 0.5410 - val_accuracy: 0.8646 - lr: 1.0000e-05\n",
      "Epoch 59/70\n",
      "31/31 [==============================] - 0s 11ms/step - loss: 0.1237 - accuracy: 0.9666 - val_loss: 0.5375 - val_accuracy: 0.8646 - lr: 1.0000e-05\n",
      "Epoch 60/70\n",
      "31/31 [==============================] - 0s 11ms/step - loss: 0.1263 - accuracy: 0.9630 - val_loss: 0.5368 - val_accuracy: 0.8646 - lr: 1.0000e-05\n",
      "Epoch 61/70\n",
      "31/31 [==============================] - 0s 12ms/step - loss: 0.1275 - accuracy: 0.9648 - val_loss: 0.5355 - val_accuracy: 0.8682 - lr: 1.0000e-05\n",
      "Epoch 62/70\n",
      "31/31 [==============================] - 0s 10ms/step - loss: 0.1360 - accuracy: 0.9621 - val_loss: 0.5355 - val_accuracy: 0.8700 - lr: 1.0000e-05\n",
      "Epoch 63/70\n",
      "31/31 [==============================] - 0s 10ms/step - loss: 0.1464 - accuracy: 0.9589 - val_loss: 0.5359 - val_accuracy: 0.8718 - lr: 1.0000e-05\n",
      "Epoch 64/70\n",
      "26/31 [========================>.....] - ETA: 0s - loss: 0.1328 - accuracy: 0.9647\n",
      "Epoch 64: ReduceLROnPlateau reducing learning rate to 1.0000000656873453e-06.\n",
      "31/31 [==============================] - 0s 10ms/step - loss: 0.1327 - accuracy: 0.9652 - val_loss: 0.5368 - val_accuracy: 0.8682 - lr: 1.0000e-05\n",
      "Epoch 65/70\n",
      "31/31 [==============================] - 0s 11ms/step - loss: 0.1349 - accuracy: 0.9634 - val_loss: 0.5367 - val_accuracy: 0.8700 - lr: 1.0000e-06\n",
      "Epoch 66/70\n",
      "31/31 [==============================] - 0s 11ms/step - loss: 0.1304 - accuracy: 0.9657 - val_loss: 0.5367 - val_accuracy: 0.8718 - lr: 1.0000e-06\n",
      "Epoch 67/70\n",
      "31/31 [==============================] - 0s 10ms/step - loss: 0.1386 - accuracy: 0.9643 - val_loss: 0.5368 - val_accuracy: 0.8718 - lr: 1.0000e-06\n",
      "Epoch 68/70\n",
      "31/31 [==============================] - 0s 11ms/step - loss: 0.1477 - accuracy: 0.9575 - val_loss: 0.5367 - val_accuracy: 0.8700 - lr: 1.0000e-06\n",
      "Epoch 69/70\n",
      "29/31 [===========================>..] - ETA: 0s - loss: 0.1392 - accuracy: 0.9617\n",
      "Epoch 69: ReduceLROnPlateau reducing learning rate to 1.0000001111620805e-07.\n",
      "31/31 [==============================] - 0s 11ms/step - loss: 0.1372 - accuracy: 0.9625 - val_loss: 0.5367 - val_accuracy: 0.8700 - lr: 1.0000e-06\n",
      "Epoch 70/70\n",
      "31/31 [==============================] - 0s 10ms/step - loss: 0.1267 - accuracy: 0.9666 - val_loss: 0.5370 - val_accuracy: 0.8700 - lr: 1.0000e-07\n"
     ]
    },
    {
     "data": {
      "text/plain": [
       "<keras.callbacks.History at 0x7f1ab25f8f50>"
      ]
     },
     "execution_count": 233,
     "metadata": {},
     "output_type": "execute_result"
    }
   ],
   "source": [
    "model.fit(X_train, y_train, batch_size=72, epochs=70, validation_split=0.2,  callbacks=callbacks)"
   ]
  },
  {
   "cell_type": "code",
   "execution_count": null,
   "metadata": {
    "colab": {
     "base_uri": "https://localhost:8080/"
    },
    "id": "WuVVSyIqRgKd",
    "outputId": "89837312-f953-40fa-b54a-5532badb6060"
   },
   "outputs": [
    {
     "name": "stdout",
     "output_type": "stream",
     "text": [
      "22/22 [==============================] - 0s 3ms/step - loss: 0.6174 - accuracy: 0.8801\n",
      "Metric on test: [0.6174319386482239, 0.8800578117370605]\n",
      "87/87 [==============================] - 0s 3ms/step - loss: 0.1107 - accuracy: 0.9740\n",
      "Metric on train: [0.11070176213979721, 0.97398841381073]\n"
     ]
    }
   ],
   "source": [
    "print(f'Metric on test: {model.evaluate(X_test, y_test)}')\n",
    "print(f'Metric on train: {model.evaluate(X_train, y_train)}')"
   ]
  },
  {
   "cell_type": "code",
   "execution_count": 235,
   "metadata": {
    "colab": {
     "base_uri": "https://localhost:8080/"
    },
    "id": "1EEA36OwRgNz",
    "outputId": "4ec0f33b-dd0d-4203-d3eb-d7437ed49950"
   },
   "outputs": [
    {
     "name": "stdout",
     "output_type": "stream",
     "text": [
      "Model: \"sequential_23\"\n",
      "_________________________________________________________________\n",
      " Layer (type)                Output Shape              Param #   \n",
      "=================================================================\n",
      " input_layer (Dense)         (None, 128)               16512     \n",
      "                                                                 \n",
      " hidden_layer_1 (Dense)      (None, 150)               19350     \n",
      "                                                                 \n",
      " dropout_1 (Dropout)         (None, 150)               0         \n",
      "                                                                 \n",
      " hidden_layer_2 (Dense)      (None, 150)               22650     \n",
      "                                                                 \n",
      " hidden_layer_3 (Dense)      (None, 150)               22650     \n",
      "                                                                 \n",
      " batch_normalization (BatchN  (None, 150)              600       \n",
      " ormalization)                                                   \n",
      "                                                                 \n",
      " hidden_layer_4 (Dense)      (None, 150)               22650     \n",
      "                                                                 \n",
      " dropout_2 (Dropout)         (None, 150)               0         \n",
      "                                                                 \n",
      " output_layer (Dense)        (None, 233)               35183     \n",
      "                                                                 \n",
      "=================================================================\n",
      "Total params: 139,595\n",
      "Trainable params: 139,295\n",
      "Non-trainable params: 300\n",
      "_________________________________________________________________\n"
     ]
    }
   ],
   "source": [
    "model.summary()"
   ]
  },
  {
   "cell_type": "code",
   "execution_count": null,
   "metadata": {
    "id": "STfhRLgbl9cc"
   },
   "outputs": [],
   "source": [
    "model_file_path = '/content/drive/My Drive/Colab Notebooks/Data/dl_model'\n",
    "model.save(model_file_path)"
   ]
  }
 ],
 "metadata": {
  "colab": {
   "collapsed_sections": [],
   "provenance": []
  },
  "kernelspec": {
   "display_name": "Python 3 (ipykernel)",
   "language": "python",
   "name": "python3"
  },
  "language_info": {
   "codemirror_mode": {
    "name": "ipython",
    "version": 3
   },
   "file_extension": ".py",
   "mimetype": "text/x-python",
   "name": "python",
   "nbconvert_exporter": "python",
   "pygments_lexer": "ipython3",
   "version": "3.9.13"
  }
 },
 "nbformat": 4,
 "nbformat_minor": 1
}
